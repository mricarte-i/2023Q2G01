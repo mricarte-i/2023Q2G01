{
 "cells": [
  {
   "cell_type": "code",
   "execution_count": 386,
   "metadata": {},
   "outputs": [],
   "source": [
    "import matplotlib.pyplot as plt"
   ]
  },
  {
   "cell_type": "code",
   "execution_count": 387,
   "metadata": {},
   "outputs": [],
   "source": [
    "right_color  = \"#FCC72A\"\n",
    "top_color    = \"#FA2504\"\n",
    "left_color   = \"#101CA1\"\n",
    "bottom_color = \"#20AE24\""
   ]
  },
  {
   "cell_type": "code",
   "execution_count": 388,
   "metadata": {},
   "outputs": [],
   "source": [
    "def hex_to_rgb_hex(hex):\n",
    "    r = hex[1:3]\n",
    "    g = hex[3:5]\n",
    "    b = hex[5:7]\n",
    "    return (r, g, b)"
   ]
  },
  {
   "cell_type": "code",
   "execution_count": 389,
   "metadata": {},
   "outputs": [],
   "source": [
    "def rgb_hex_to_rgb_num(rgb_hex):\n",
    "    r = int(rgb_hex[0], 16)\n",
    "    g = int(rgb_hex[1], 16)\n",
    "    b = int(rgb_hex[2], 16)\n",
    "    return (r, g, b)"
   ]
  },
  {
   "cell_type": "code",
   "execution_count": 390,
   "metadata": {},
   "outputs": [],
   "source": [
    "def rgb_num_to_rgb_rel_num(rgb_num):\n",
    "    r = rgb_num[0] / 255\n",
    "    g = rgb_num[1] / 255\n",
    "    b = rgb_num[2] / 255\n",
    "    return (r, g, b)"
   ]
  },
  {
   "cell_type": "code",
   "execution_count": 391,
   "metadata": {},
   "outputs": [],
   "source": [
    "def hex_to_ovito_color(hex):\n",
    "    return rgb_num_to_rgb_rel_num(rgb_hex_to_rgb_num(hex_to_rgb_hex(hex)))"
   ]
  },
  {
   "cell_type": "code",
   "execution_count": 392,
   "metadata": {},
   "outputs": [
    {
     "data": {
      "text/plain": [
       "[(0.9882352941176471, 0.7803921568627451, 0.16470588235294117),\n",
       " (0.9803921568627451, 0.1450980392156863, 0.01568627450980392),\n",
       " (0.06274509803921569, 0.10980392156862745, 0.6313725490196078),\n",
       " (0.12549019607843137, 0.6823529411764706, 0.1411764705882353),\n",
       " (0.9882352941176471, 0.7803921568627451, 0.16470588235294117)]"
      ]
     },
     "execution_count": 392,
     "metadata": {},
     "output_type": "execute_result"
    }
   ],
   "source": [
    "hex_colors = [right_color, top_color, left_color, bottom_color, right_color]\n",
    "ovito_colors = []\n",
    "for hex_color in hex_colors:\n",
    "    ovito_colors.append(hex_to_ovito_color(hex_color))\n",
    "ovito_colors"
   ]
  },
  {
   "cell_type": "code",
   "execution_count": 393,
   "metadata": {},
   "outputs": [
    {
     "data": {
      "text/plain": [
       "<matplotlib.image.AxesImage at 0x7f20765dfc10>"
      ]
     },
     "execution_count": 393,
     "metadata": {},
     "output_type": "execute_result"
    },
    {
     "data": {
      "image/png": "[encoded data removed]",
      "text/plain": [
       "<Figure size 640x480 with 1 Axes>"
      ]
     },
     "metadata": {},
     "output_type": "display_data"
    }
   ],
   "source": [
    "plt.imshow([ovito_colors])"
   ]
  }
 ],
 "metadata": {
  "kernelspec": {
   "display_name": "Python 3",
   "language": "python",
   "name": "python3"
  },
  "language_info": {
   "codemirror_mode": {
    "name": "ipython",
    "version": 3
   },
   "file_extension": ".py",
   "mimetype": "text/x-python",
   "name": "python",
   "nbconvert_exporter": "python",
   "pygments_lexer": "ipython3",
   "version": "3.10.12"
  },
  "orig_nbformat": 4
 },
 "nbformat": 4,
 "nbformat_minor": 2
}
