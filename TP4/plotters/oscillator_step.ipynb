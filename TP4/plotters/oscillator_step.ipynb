{
 "cells": [
  {
   "cell_type": "code",
   "execution_count": 1,
   "metadata": {},
   "outputs": [],
   "source": [
    "from output_generator import calculate_sqr_err_df_from_files\n",
    "from plot_generator   import plot_oscillator_step"
   ]
  },
  {
   "cell_type": "code",
   "execution_count": 2,
   "metadata": {},
   "outputs": [],
   "source": [
    "steps = [\n",
    "#    10**-1,\n",
    "#    10**-2\n",
    "]"
   ]
  },
  {
   "cell_type": "code",
   "execution_count": 3,
   "metadata": {},
   "outputs": [],
   "source": [
    "analytical_static_files = [\n",
    "#    \"\",\n",
    "#    \"\"\n",
    "]\n",
    "\n",
    "analytical_dynamic_files = [\n",
    "#    \"\",\n",
    "#    \"\"\n",
    "]"
   ]
  },
  {
   "cell_type": "code",
   "execution_count": 4,
   "metadata": {},
   "outputs": [],
   "source": [
    "verlet_static_files = [\n",
    "#    \"\",\n",
    "#    \"\"\n",
    "]\n",
    "\n",
    "verlet_dynamic_files = [\n",
    "#    \"\",\n",
    "#    \"\"\n",
    "]"
   ]
  },
  {
   "cell_type": "code",
   "execution_count": 5,
   "metadata": {},
   "outputs": [],
   "source": [
    "beeman_static_files = [\n",
    "#    \"\",\n",
    "#    \"\"\n",
    "]\n",
    "\n",
    "beeman_dynamic_files = [\n",
    "#    \"\",\n",
    "#    \"\"\n",
    "]"
   ]
  },
  {
   "cell_type": "code",
   "execution_count": 6,
   "metadata": {},
   "outputs": [],
   "source": [
    "gear5_static_files = [\n",
    "#    \"\",\n",
    "#    \"\"\n",
    "]\n",
    "\n",
    "gear5_dynamic_files = [\n",
    "#    \"\",\n",
    "#    \"\"\n",
    "]"
   ]
  },
  {
   "cell_type": "code",
   "execution_count": 7,
   "metadata": {},
   "outputs": [],
   "source": [
    "numerical_methods_static_files = [\n",
    "    verlet_static_files,\n",
    "    beeman_static_files,\n",
    "    gear5_static_files\n",
    "]\n",
    "\n",
    "numerical_methods_dynamic_files = [\n",
    "    verlet_dynamic_files,\n",
    "    beeman_dynamic_files,\n",
    "    gear5_dynamic_files\n",
    "]"
   ]
  },
  {
   "cell_type": "code",
   "execution_count": 8,
   "metadata": {},
   "outputs": [],
   "source": [
    "numerical_methods_labels = [\n",
    "    \"Verlet\",\n",
    "    \"Beeman\",\n",
    "    \"Gear Predictor-Corrector de orden 5\"\n",
    "]"
   ]
  },
  {
   "cell_type": "code",
   "execution_count": 9,
   "metadata": {},
   "outputs": [],
   "source": [
    "sqr_err_df = calculate_sqr_err_df_from_files(steps,\n",
    "                                             analytical_static_files,        analytical_dynamic_files,\n",
    "                                             numerical_methods_static_files, numerical_methods_dynamic_files,\n",
    "                                             numerical_methods_labels)"
   ]
  },
  {
   "cell_type": "code",
   "execution_count": 10,
   "metadata": {},
   "outputs": [
    {
     "data": {
      "text/html": [
       "<div>\n",
       "<style scoped>\n",
       "    .dataframe tbody tr th:only-of-type {\n",
       "        vertical-align: middle;\n",
       "    }\n",
       "\n",
       "    .dataframe tbody tr th {\n",
       "        vertical-align: top;\n",
       "    }\n",
       "\n",
       "    .dataframe thead th {\n",
       "        text-align: right;\n",
       "    }\n",
       "</style>\n",
       "<table border=\"1\" class=\"dataframe\">\n",
       "  <thead>\n",
       "    <tr style=\"text-align: right;\">\n",
       "      <th></th>\n",
       "      <th>step</th>\n",
       "      <th>sqr_err</th>\n",
       "      <th>integrator</th>\n",
       "    </tr>\n",
       "  </thead>\n",
       "  <tbody>\n",
       "  </tbody>\n",
       "</table>\n",
       "</div>"
      ],
      "text/plain": [
       "Empty DataFrame\n",
       "Columns: [step, sqr_err, integrator]\n",
       "Index: []"
      ]
     },
     "execution_count": 10,
     "metadata": {},
     "output_type": "execute_result"
    }
   ],
   "source": [
    "sqr_err_df"
   ]
  },
  {
   "cell_type": "code",
   "execution_count": 11,
   "metadata": {},
   "outputs": [
    {
     "data": {
      "image/png": "[encoded data removed]",
      "text/plain": [
       "<Figure size 640x480 with 1 Axes>"
      ]
     },
     "metadata": {},
     "output_type": "display_data"
    }
   ],
   "source": [
    "plot_oscillator_step(sqr_err_df, hue=\"integrator\")"
   ]
  }
 ],
 "metadata": {
  "kernelspec": {
   "display_name": "Python 3",
   "language": "python",
   "name": "python3"
  },
  "language_info": {
   "codemirror_mode": {
    "name": "ipython",
    "version": 3
   },
   "file_extension": ".py",
   "mimetype": "text/x-python",
   "name": "python",
   "nbconvert_exporter": "python",
   "pygments_lexer": "ipython3",
   "version": "3.10.12"
  },
  "orig_nbformat": 4
 },
 "nbformat": 4,
 "nbformat_minor": 2
}
