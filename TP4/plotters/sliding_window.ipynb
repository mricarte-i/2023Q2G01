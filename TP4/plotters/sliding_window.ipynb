{
 "cells": [
  {
   "cell_type": "code",
   "execution_count": 40,
   "metadata": {},
   "outputs": [],
   "source": [
    "import matplotlib.pyplot as plt\n",
    "import seaborn as sns\n",
    "from density_utils import get_all_densities, get_all_velocities, get_neighbors\n",
    "from simulation_parser import parse_simulation_files, SimulationInfo\n",
    "from dataclasses import dataclass\n",
    "import numpy as np"
   ]
  },
  {
   "cell_type": "code",
   "execution_count": 41,
   "metadata": {},
   "outputs": [],
   "source": [
    "#params\n",
    "\n",
    "#equidistant!\n",
    "save_together = \"./sys2-ej2.4-sliding.png\"\n",
    "static_paths = [\"../static5.txt\", \"../static10.txt\", \"../static15.txt\", \"../static20.txt\", \"../static25.txt\", \"../static30.txt\"]\n",
    "dynamic_paths = [\"../dynamic5.txt\", \"../dynamic10.txt\", \"../dynamic15.txt\", \"../dynamic20.txt\", \"../dynamic25.txt\", \"../dynamic30.txt\"]\n",
    "colors=['blue', 'teal', 'limegreen', 'orange', 'purple', 'pink']"
   ]
  },
  {
   "cell_type": "code",
   "execution_count": 42,
   "metadata": {},
   "outputs": [],
   "source": [
    "def flatten(matrix):\n",
    "  flat_list = []\n",
    "  for row in matrix:\n",
    "    flat_list += row\n",
    "  return flat_list"
   ]
  },
  {
   "cell_type": "code",
   "execution_count": 43,
   "metadata": {},
   "outputs": [
    {
     "ename": "AttributeError",
     "evalue": "'PathCollection' object has no property 'markersize'",
     "output_type": "error",
     "traceback": [
      "\u001b[1;31m---------------------------------------------------------------------------\u001b[0m",
      "\u001b[1;31mAttributeError\u001b[0m                            Traceback (most recent call last)",
      "\u001b[1;32md:\\gits\\2023Q2G01\\TP4\\plotters\\sliding_window.ipynb Cell 4\u001b[0m line \u001b[0;36m<cell line: 34>\u001b[1;34m()\u001b[0m\n\u001b[0;32m     <a href='vscode-notebook-cell:/d%3A/gits/2023Q2G01/TP4/plotters/sliding_window.ipynb#W3sZmlsZQ%3D%3D?line=31'>32</a>\u001b[0m x \u001b[39m=\u001b[39m [item[\u001b[39m0\u001b[39m] \u001b[39mfor\u001b[39;00m item \u001b[39min\u001b[39;00m aux]\n\u001b[0;32m     <a href='vscode-notebook-cell:/d%3A/gits/2023Q2G01/TP4/plotters/sliding_window.ipynb#W3sZmlsZQ%3D%3D?line=32'>33</a>\u001b[0m plt\u001b[39m.\u001b[39mplot(x[window_size\u001b[39m-\u001b[39m\u001b[39m1\u001b[39m:], sliding_avg, label\u001b[39m=\u001b[39m\u001b[39m'\u001b[39m\u001b[39mPromedio de ventana\u001b[39m\u001b[39m'\u001b[39m, color\u001b[39m=\u001b[39m\u001b[39m'\u001b[39m\u001b[39mred\u001b[39m\u001b[39m'\u001b[39m)\n\u001b[1;32m---> <a href='vscode-notebook-cell:/d%3A/gits/2023Q2G01/TP4/plotters/sliding_window.ipynb#W3sZmlsZQ%3D%3D?line=33'>34</a>\u001b[0m plt\u001b[39m.\u001b[39;49mscatter(x, [item[\u001b[39m1\u001b[39;49m] \u001b[39mfor\u001b[39;49;00m item \u001b[39min\u001b[39;49;00m aux], marker\u001b[39m=\u001b[39;49m\u001b[39m'\u001b[39;49m\u001b[39mo\u001b[39;49m\u001b[39m'\u001b[39;49m, markersize\u001b[39m=\u001b[39;49m\u001b[39m1\u001b[39;49m, label\u001b[39m=\u001b[39;49m\u001b[39m'\u001b[39;49m\u001b[39mVelocidades\u001b[39;49m\u001b[39m'\u001b[39;49m, color\u001b[39m=\u001b[39;49m\u001b[39m'\u001b[39;49m\u001b[39mteal\u001b[39;49m\u001b[39m'\u001b[39;49m)\n\u001b[0;32m     <a href='vscode-notebook-cell:/d%3A/gits/2023Q2G01/TP4/plotters/sliding_window.ipynb#W3sZmlsZQ%3D%3D?line=35'>36</a>\u001b[0m sns\u001b[39m.\u001b[39mset_style(\u001b[39m\"\u001b[39m\u001b[39mdarkgrid\u001b[39m\u001b[39m\"\u001b[39m)\n\u001b[0;32m     <a href='vscode-notebook-cell:/d%3A/gits/2023Q2G01/TP4/plotters/sliding_window.ipynb#W3sZmlsZQ%3D%3D?line=36'>37</a>\u001b[0m plt\u001b[39m.\u001b[39mtight_layout()\n",
      "File \u001b[1;32md:\\Programs\\Python\\Python310\\lib\\site-packages\\matplotlib\\pyplot.py:2819\u001b[0m, in \u001b[0;36mscatter\u001b[1;34m(x, y, s, c, marker, cmap, norm, vmin, vmax, alpha, linewidths, edgecolors, plotnonfinite, data, **kwargs)\u001b[0m\n\u001b[0;32m   2814\u001b[0m \u001b[39m@_copy_docstring_and_deprecators\u001b[39m(Axes\u001b[39m.\u001b[39mscatter)\n\u001b[0;32m   2815\u001b[0m \u001b[39mdef\u001b[39;00m \u001b[39mscatter\u001b[39m(\n\u001b[0;32m   2816\u001b[0m         x, y, s\u001b[39m=\u001b[39m\u001b[39mNone\u001b[39;00m, c\u001b[39m=\u001b[39m\u001b[39mNone\u001b[39;00m, marker\u001b[39m=\u001b[39m\u001b[39mNone\u001b[39;00m, cmap\u001b[39m=\u001b[39m\u001b[39mNone\u001b[39;00m, norm\u001b[39m=\u001b[39m\u001b[39mNone\u001b[39;00m,\n\u001b[0;32m   2817\u001b[0m         vmin\u001b[39m=\u001b[39m\u001b[39mNone\u001b[39;00m, vmax\u001b[39m=\u001b[39m\u001b[39mNone\u001b[39;00m, alpha\u001b[39m=\u001b[39m\u001b[39mNone\u001b[39;00m, linewidths\u001b[39m=\u001b[39m\u001b[39mNone\u001b[39;00m, \u001b[39m*\u001b[39m,\n\u001b[0;32m   2818\u001b[0m         edgecolors\u001b[39m=\u001b[39m\u001b[39mNone\u001b[39;00m, plotnonfinite\u001b[39m=\u001b[39m\u001b[39mFalse\u001b[39;00m, data\u001b[39m=\u001b[39m\u001b[39mNone\u001b[39;00m, \u001b[39m*\u001b[39m\u001b[39m*\u001b[39mkwargs):\n\u001b[1;32m-> 2819\u001b[0m     __ret \u001b[39m=\u001b[39m gca()\u001b[39m.\u001b[39mscatter(\n\u001b[0;32m   2820\u001b[0m         x, y, s\u001b[39m=\u001b[39ms, c\u001b[39m=\u001b[39mc, marker\u001b[39m=\u001b[39mmarker, cmap\u001b[39m=\u001b[39mcmap, norm\u001b[39m=\u001b[39mnorm,\n\u001b[0;32m   2821\u001b[0m         vmin\u001b[39m=\u001b[39mvmin, vmax\u001b[39m=\u001b[39mvmax, alpha\u001b[39m=\u001b[39malpha, linewidths\u001b[39m=\u001b[39mlinewidths,\n\u001b[0;32m   2822\u001b[0m         edgecolors\u001b[39m=\u001b[39medgecolors, plotnonfinite\u001b[39m=\u001b[39mplotnonfinite,\n\u001b[0;32m   2823\u001b[0m         \u001b[39m*\u001b[39m\u001b[39m*\u001b[39m({\u001b[39m\"\u001b[39m\u001b[39mdata\u001b[39m\u001b[39m\"\u001b[39m: data} \u001b[39mif\u001b[39;00m data \u001b[39mis\u001b[39;00m \u001b[39mnot\u001b[39;00m \u001b[39mNone\u001b[39;00m \u001b[39melse\u001b[39;00m {}), \u001b[39m*\u001b[39m\u001b[39m*\u001b[39mkwargs)\n\u001b[0;32m   2824\u001b[0m     sci(__ret)\n\u001b[0;32m   2825\u001b[0m     \u001b[39mreturn\u001b[39;00m __ret\n",
      "File \u001b[1;32md:\\Programs\\Python\\Python310\\lib\\site-packages\\matplotlib\\__init__.py:1412\u001b[0m, in \u001b[0;36m_preprocess_data.<locals>.inner\u001b[1;34m(ax, data, *args, **kwargs)\u001b[0m\n\u001b[0;32m   1409\u001b[0m \u001b[39m@functools\u001b[39m\u001b[39m.\u001b[39mwraps(func)\n\u001b[0;32m   1410\u001b[0m \u001b[39mdef\u001b[39;00m \u001b[39minner\u001b[39m(ax, \u001b[39m*\u001b[39margs, data\u001b[39m=\u001b[39m\u001b[39mNone\u001b[39;00m, \u001b[39m*\u001b[39m\u001b[39m*\u001b[39mkwargs):\n\u001b[0;32m   1411\u001b[0m     \u001b[39mif\u001b[39;00m data \u001b[39mis\u001b[39;00m \u001b[39mNone\u001b[39;00m:\n\u001b[1;32m-> 1412\u001b[0m         \u001b[39mreturn\u001b[39;00m func(ax, \u001b[39m*\u001b[39m\u001b[39mmap\u001b[39m(sanitize_sequence, args), \u001b[39m*\u001b[39m\u001b[39m*\u001b[39mkwargs)\n\u001b[0;32m   1414\u001b[0m     bound \u001b[39m=\u001b[39m new_sig\u001b[39m.\u001b[39mbind(ax, \u001b[39m*\u001b[39margs, \u001b[39m*\u001b[39m\u001b[39m*\u001b[39mkwargs)\n\u001b[0;32m   1415\u001b[0m     auto_label \u001b[39m=\u001b[39m (bound\u001b[39m.\u001b[39marguments\u001b[39m.\u001b[39mget(label_namer)\n\u001b[0;32m   1416\u001b[0m                   \u001b[39mor\u001b[39;00m bound\u001b[39m.\u001b[39mkwargs\u001b[39m.\u001b[39mget(label_namer))\n",
      "File \u001b[1;32md:\\Programs\\Python\\Python310\\lib\\site-packages\\matplotlib\\axes\\_axes.py:4461\u001b[0m, in \u001b[0;36mAxes.scatter\u001b[1;34m(self, x, y, s, c, marker, cmap, norm, vmin, vmax, alpha, linewidths, edgecolors, plotnonfinite, **kwargs)\u001b[0m\n\u001b[0;32m   4451\u001b[0m collection \u001b[39m=\u001b[39m mcoll\u001b[39m.\u001b[39mPathCollection(\n\u001b[0;32m   4452\u001b[0m         (path,), scales,\n\u001b[0;32m   4453\u001b[0m         facecolors\u001b[39m=\u001b[39mcolors,\n\u001b[1;32m   (...)\u001b[0m\n\u001b[0;32m   4458\u001b[0m         alpha\u001b[39m=\u001b[39malpha\n\u001b[0;32m   4459\u001b[0m         )\n\u001b[0;32m   4460\u001b[0m collection\u001b[39m.\u001b[39mset_transform(mtransforms\u001b[39m.\u001b[39mIdentityTransform())\n\u001b[1;32m-> 4461\u001b[0m collection\u001b[39m.\u001b[39;49mupdate(kwargs)\n\u001b[0;32m   4463\u001b[0m \u001b[39mif\u001b[39;00m colors \u001b[39mis\u001b[39;00m \u001b[39mNone\u001b[39;00m:\n\u001b[0;32m   4464\u001b[0m     collection\u001b[39m.\u001b[39mset_array(c)\n",
      "File \u001b[1;32md:\\Programs\\Python\\Python310\\lib\\site-packages\\matplotlib\\artist.py:1064\u001b[0m, in \u001b[0;36mArtist.update\u001b[1;34m(self, props)\u001b[0m\n\u001b[0;32m   1062\u001b[0m             func \u001b[39m=\u001b[39m \u001b[39mgetattr\u001b[39m(\u001b[39mself\u001b[39m, \u001b[39mf\u001b[39m\u001b[39m\"\u001b[39m\u001b[39mset_\u001b[39m\u001b[39m{\u001b[39;00mk\u001b[39m}\u001b[39;00m\u001b[39m\"\u001b[39m, \u001b[39mNone\u001b[39;00m)\n\u001b[0;32m   1063\u001b[0m             \u001b[39mif\u001b[39;00m \u001b[39mnot\u001b[39;00m callable(func):\n\u001b[1;32m-> 1064\u001b[0m                 \u001b[39mraise\u001b[39;00m \u001b[39mAttributeError\u001b[39;00m(\u001b[39mf\u001b[39m\u001b[39m\"\u001b[39m\u001b[39m{\u001b[39;00m\u001b[39mtype\u001b[39m(\u001b[39mself\u001b[39m)\u001b[39m.\u001b[39m\u001b[39m__name__\u001b[39m\u001b[39m!r}\u001b[39;00m\u001b[39m object \u001b[39m\u001b[39m\"\u001b[39m\n\u001b[0;32m   1065\u001b[0m                                      \u001b[39mf\u001b[39m\u001b[39m\"\u001b[39m\u001b[39mhas no property \u001b[39m\u001b[39m{\u001b[39;00mk\u001b[39m!r}\u001b[39;00m\u001b[39m\"\u001b[39m)\n\u001b[0;32m   1066\u001b[0m             ret\u001b[39m.\u001b[39mappend(func(v))\n\u001b[0;32m   1067\u001b[0m \u001b[39mif\u001b[39;00m ret:\n",
      "\u001b[1;31mAttributeError\u001b[0m: 'PathCollection' object has no property 'markersize'"
     ]
    },
    {
     "data": {
      "image/png": "[encoded data removed]",
      "text/plain": [
       "<Figure size 432x288 with 1 Axes>"
      ]
     },
     "metadata": {},
     "output_type": "display_data"
    }
   ],
   "source": [
    "all_ro = []\n",
    "all_v = []\n",
    "#have point cloud as background\n",
    "for i in range(len(static_paths)):\n",
    "  simInfo = parse_simulation_files(static_paths[i], dynamic_paths[i])\n",
    "  neighborData = get_neighbors(simInfo)\n",
    "\n",
    "  densities = get_all_densities(simInfo, neighborData)\n",
    "  velocities = get_all_velocities(simInfo)\n",
    "  #plot everything at once (no sliding window average)\n",
    "  \n",
    "  y = np.array(velocities[i])\n",
    "  x = np.array(densities[i])\n",
    "\n",
    "  all_v.append(velocities[i])\n",
    "  all_ro.append(densities[i])\n",
    "\n",
    "\n",
    "velocities = flatten(all_v)\n",
    "densities = flatten(all_ro)\n",
    "\n",
    "\n",
    "v = np.array(velocities) \n",
    "ro = np.array(densities)\n",
    "aux = []\n",
    "for i in range(len(ro)):\n",
    "  aux.append((ro[i], v[i]))\n",
    "aux.sort(key=lambda p:p[0], reverse=False)\n",
    "\n",
    "window_size = 1000\n",
    "sliding_avg = np.convolve([item[1] for item in aux], np.ones(window_size)/window_size, mode='valid')\n",
    "x = [item[0] for item in aux]\n",
    "plt.plot(x[window_size-1:], sliding_avg, label='Promedio de ventana', color='red')\n",
    "plt.scatter(x, [item[1] for item in aux], marker='o', label='Velocidades', color='teal')\n",
    "\n",
    "sns.set_style(\"darkgrid\")\n",
    "plt.tight_layout()\n",
    "plt.ylabel('v_{i}(t)')\n",
    "plt.xlabel('ro_{i}(t)')\n",
    "plt.legend(bbox_to_anchor=(1.04, 1), loc=\"upper left\")\n",
    "#plt.show\n",
    "plt.savefig(save_together, bbox_inches='tight', dpi=1200)\n",
    "\n"
   ]
  }
 ],
 "metadata": {
  "kernelspec": {
   "display_name": "Python 3",
   "language": "python",
   "name": "python3"
  },
  "language_info": {
   "codemirror_mode": {
    "name": "ipython",
    "version": 3
   },
   "file_extension": ".py",
   "mimetype": "text/x-python",
   "name": "python",
   "nbconvert_exporter": "python",
   "pygments_lexer": "ipython3",
   "version": "3.10.4"
  },
  "orig_nbformat": 4
 },
 "nbformat": 4,
 "nbformat_minor": 2
}
